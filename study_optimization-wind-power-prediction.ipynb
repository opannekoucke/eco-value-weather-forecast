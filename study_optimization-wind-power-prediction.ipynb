{
 "cells": [
  {
   "cell_type": "markdown",
   "metadata": {},
   "source": [
    "\n",
    "<!-- Template \n",
    "Auteur: Olivier Pannekoucke\n",
    "Date: 27/09/2017\n",
    "Description: \n",
    "   Introduction aux notebook jupyter et à la création/valorisation d'un travail scientifique.\n",
    "-->\n",
    "<center>\n",
    "<h1> Wind power plant prediction in assymetric market</h1>\n",
    "<h5>Olivier Pannekoucke (INPT-ENM, CNRM, CERFACS)</h5>\n",
    "</center>"
   ]
  },
  {
   "cell_type": "markdown",
   "metadata": {
    "ExecuteTime": {
     "end_time": "2017-11-14T16:41:44.708302Z",
     "start_time": "2017-11-14T16:41:44.500806Z"
    }
   },
   "source": [
    "<h3 style=\"font-variant:small-caps;\"><a class=\"tocSkip\"><center>Summary</center></h3>\n",
    "<div style=\"margin:0 50px 0 50px\">\n",
    "<p style=\"background:rgb(230,230,255)\">\n",
    "The aims of this notebook is to introduce weather prediction from a simple and classical dynamical model, with a focus on application in wind power production. A dynamics introduces to weather forecasting as done in operational centers. This leads to compute synthetic data for populated a climate and support the economical study, where a wind and a wind power production is deduced from the state of the idealized weather and its forecast. The goal is to predict the power production to specify into the contact 6 hours ahead (24h hours ahead in real life). A data assimilation framework is introduced to provide an ensemble of forecast estimation of the uncertainty. Different strategies of contract definition of the predicted power are proposed and computed from the synthetic climatological data, then evaluated over a new period.\n",
    "    </p>\n",
    "<p>\n",
    "<b>keywords</b>: <i> Nature, weather prediction, wind power plant.</i>\n",
    "</p>\n",
    "</div>"
   ]
  },
  {
   "cell_type": "markdown",
   "metadata": {},
   "source": [
    "## **1. Introduction**"
   ]
  },
  {
   "cell_type": "markdown",
   "metadata": {},
   "source": [
    "Risk management of weather sensitive applications is adressed here considering wind power plant production prediction.\n",
    "\n",
    "Several configurations can be encountered so to provide the gain or its estimation depending on the amount of information available.\n"
   ]
  },
  {
   "cell_type": "markdown",
   "metadata": {},
   "source": [
    "**Producer profit ($\\Pi$) when the production is known**\n",
    "\n",
    "For an electrical production of PE, sold at a price of $p$, the gain for the producer is \n",
    "$$\\Pi = pPE,$$"
   ]
  },
  {
   "cell_type": "markdown",
   "metadata": {},
   "source": [
    "**Profit given from a perfect prediction of wind speed**\n",
    "\n",
    "In the case of wind energy, the production can be deduced from the wind strength $PE(FF)$, where $FF$ denotes the wind magnitude. Thus, a perfect wind forecast, $FF_t$ leads to a perfect forecast of the expected production, such as \n",
    "$$\\Pi = pPE(FF_t),$$"
   ]
  },
  {
   "cell_type": "markdown",
   "metadata": {},
   "source": [
    "### **1.1) Profit under uncertainty**"
   ]
  },
  {
   "cell_type": "markdown",
   "metadata": {},
   "source": [
    "**Expected profit knowing the past (time serie of past profit)**\n",
    "\n",
    "One can ask the question of what the producer can earn in the future. For example, what is the gain that will be realized from today to tomorrow?\n",
    "Without additional information, the expected gain can be evaluated by considering the climate -- past gains, i.e. \n",
    "$$\\Pi_{clim.} = p\\mathbb{E}(PE),$$"
   ]
  },
  {
   "cell_type": "markdown",
   "metadata": {},
   "source": [
    "**Expected profit from an imperfect wind speed forecast**\n",
    "\n",
    "In the case of an imperfect forecast, the expected gain is then obtained using the optimal estimate of the production knowing the expected wind strength $FF_f$, i.e. \n",
    "$$\\Pi_e = p\\mathbb{E}(PE/FF_f),$$\n",
    "where $\\mathbb{E}(\\cdot/FF_f)$ stands for the conditional expectation knowing the wind speed."
   ]
  },
  {
   "cell_type": "markdown",
   "metadata": {},
   "source": [
    "**Expected profit from an ensemble of imperfect wind speed**\n",
    "\n",
    "In the case where the forecast is probabilistic, the best estimate of the gain is obtained as \n",
    "$$\\Pi_{e,ens.} = \\mathbb{E}_{FF_f}\\left[p\\mathbb{E}(PE/FF_f)\\right],$$"
   ]
  },
  {
   "cell_type": "markdown",
   "metadata": {},
   "source": [
    "### **1.2) Penalties on over/under estimation of the true production**"
   ]
  },
  {
   "cell_type": "markdown",
   "metadata": {},
   "source": [
    "Since the transmission system is sensitive to overloading, it is necessary to avoid underestimating the forecasted production, which leads to a forecasted value that is lower than the value actually observed, with the risk of injecting too much energy simultaneously into the system.\n",
    "\n",
    "Thus, the **contract** is that the producer commits to a given production $PE_c$, the contracted production.\n",
    "\n",
    "Thus, the transmission system operator can impose a very high penalty for underestimating actual generation (*i.e. when $PE-PE_c\\geq 0$*), such that the loss to the generator is given by \n",
    "$$L_\\text{under estim.}(PE_c,PE) = k_1 (PE-PE_c)^+, \\text{ with } k_1>0,$$\n",
    "where $(u)^+ = max(u,0)$\n",
    "\n",
    "On the other hand, overestimating its production can also have a negative effect, by risking not meeting the overall demand.\n",
    "Here again, the network operator can impose a penalty, possibly a little less severe. \n",
    "\n",
    "$$L_\\text{over estim.}(PE_c,PE) = k_2 (PE_c-PE)^+, \\text{ with } k_2>0$$\n",
    "\n",
    "The total gain taking into account the penalties is then written as \n",
    "\n",
    "\\begin{eqnarray}\n",
    "\\Pi &=& pPE -L(PE_c, PE) \\\\\n",
    "&=& pPE -  k_1 (PE-PE_c)^+ - k_2 (PE_c-PE)^+.\n",
    "\\end{eqnarray}"
   ]
  },
  {
   "cell_type": "code",
   "execution_count": null,
   "metadata": {
    "ExecuteTime": {
     "end_time": "2018-01-17T16:21:02.806012Z",
     "start_time": "2018-01-17T16:21:02.531536Z"
    }
   },
   "outputs": [],
   "source": [
    "# Load required \n",
    "import numpy as np\n",
    "import matplotlib.pyplot as plt\n",
    "%matplotlib inline\n",
    "import valeco\n",
    "\n",
    "fig_num = 0\n",
    "def Fignum():\n",
    "    global fig_num\n",
    "    fig_num +=1\n",
    "    return f\"Fig. {fig_num} : \""
   ]
  },
  {
   "cell_type": "code",
   "execution_count": null,
   "metadata": {},
   "outputs": [],
   "source": [
    "relu = lambda x:np.maximum(x,0)"
   ]
  },
  {
   "cell_type": "code",
   "execution_count": null,
   "metadata": {},
   "outputs": [],
   "source": [
    "k1, k2 = 0.3, 0.2\n",
    "PE = np.linspace(-1, 1, 100)\n",
    "loss = lambda PEc,PE:k1*relu(PE-PEc)+k2*relu(PEc-PE)\n",
    "PEc = 0.\n",
    "#plt.plot(PE,loss(0, PE))\n",
    "delta = PE-PEc\n",
    "plt.plot(delta[delta<=0],loss(0,PE[delta<=0]), label='over estim. penalty ($PE<PE_c$)')\n",
    "plt.plot(delta[delta>=0],loss(0,PE[delta>=0]), label='under estim. penalty ($PE>PE_c$)')\n",
    "plt.legend()\n",
    "plt.xlabel('$PE-PE_c$')\n",
    "plt.ylabel('Loss function (penalty)')\n",
    "plt.title(Fignum()+\"Loss as function of the true PE ($PE_c$ being given)\");\n",
    "plt.savefig(\"./figures/fig-assymetric-penalties.png\")"
   ]
  },
  {
   "cell_type": "markdown",
   "metadata": {},
   "source": [
    "### **1.3) Economical value of weather information**"
   ]
  },
  {
   "cell_type": "markdown",
   "metadata": {},
   "source": [
    "The value of an information can be represented as the expectation of the difference of gain when considering the information or not, and performed over a **time period of validation** , *i.e.*\n",
    "$$VI = \\mathbb{E}_{time}[\\text{gain with information}] -  \\mathbb{E}_{time}[\\text{gain without information}].$$\n",
    "\n",
    "Hence, several value of informations can be considered for wind power plant:\n",
    "\n",
    "\n",
    "**information of deterministic forecast vs. climate**\n",
    "\n",
    "$$VI = \\mathbb{E}_{time}[\\Pi_e] -  \\mathbb{E}_{time}[\\Pi_{clim.}] \\equiv \\mathbb{E}_{time}[\\Pi_e] -  \\Pi_{clim.}$$\n",
    "\n",
    "\n",
    "**information of ensemble of forecasts vs. climate**\n",
    "\n",
    "$$VI = \\mathbb{E}_{time}[\\Pi_{e,ens.}] -  \\Pi_{clim.}$$\n",
    "\n",
    "**information of ensemble of forecasts vs. deterministic prediction**\n",
    "\n",
    "$$VI = \\mathbb{E}_{time}[\\Pi_{e,ens.}] - \\mathbb{E}_{time}[\\Pi_e] $$\n"
   ]
  },
  {
   "cell_type": "markdown",
   "metadata": {},
   "source": [
    "## **2. Idealized world : the \"nature run\"**"
   ]
  },
  {
   "cell_type": "markdown",
   "metadata": {},
   "source": [
    "We consider an idealized world introduced so to mimic real numerical weather prediction suite, but at a much lower cost: here one year of simulation only takes few seconds ! \n",
    "\n",
    "In this idealized atmosphere, the weather is entirely known from three scalars $\\mathbf{x}=(x_1,x_2,x_3)$ whose meaning is not important for our work. Morover, the atmosphere is govern by a dynamics given by \n",
    "$$\\frac{d\\mathbf{x}}{dt} = f(\\mathbf{x}),$$\n",
    "so that, from the state $\\mathbf{x}(t)$ at time $t$, the state at time $t+dt$ is given by \n",
    "$$\\mathbf{x}(t+dt) = \\mathbf{x}(t) + dt f(\\mathbf{x}(t)).$$\n",
    "\n",
    "Hence, a sequential algorithm can forecast the time evolution of the simplified atmosphere, starting from a given initial state $\\mathbf{x}(0)$.\n",
    "\n",
    "This idealized atmosphere is considered as beeing the Nature, and a long simulation of this nature from a startgin point is a Nature run."
   ]
  },
  {
   "cell_type": "code",
   "execution_count": null,
   "metadata": {},
   "outputs": [],
   "source": [
    "nature = valeco.Nature()"
   ]
  },
  {
   "cell_type": "markdown",
   "metadata": {},
   "source": [
    "### **2.1 Nature observed in an idealized world**"
   ]
  },
  {
   "cell_type": "markdown",
   "metadata": {},
   "source": [
    "In this part, we compute the evolution of an idealized atmosphere, where the time step is of 15 minutes (or 0.25 hour). "
   ]
  },
  {
   "cell_type": "code",
   "execution_count": null,
   "metadata": {},
   "outputs": [],
   "source": [
    "nature.dt # corresponds to a quarter hour that is 15 minutes of atmospheric real time evolution."
   ]
  },
  {
   "cell_type": "code",
   "execution_count": null,
   "metadata": {},
   "outputs": [],
   "source": [
    "# Build a typical state for the idealized atmosphere (long run computation from a random state.)\n",
    "x0 = nature.typical_state()"
   ]
  },
  {
   "cell_type": "code",
   "execution_count": null,
   "metadata": {},
   "outputs": [],
   "source": [
    "window_6h = np.arange(6*4+1)*nature.dt\n",
    "window_24h = np.arange(24*4+1)*nature.dt\n",
    "window_6h"
   ]
  },
  {
   "cell_type": "code",
   "execution_count": null,
   "metadata": {},
   "outputs": [],
   "source": [
    "# Illustration of a typical idealized atmospheric time series\n",
    "traj = nature.predict(window_24h, x0)\n",
    "\n",
    "plt.plot(window_24h, traj)\n",
    "plt.xlabel('Time (hour)')\n",
    "plt.ylabel('State components')\n",
    "plt.title(Fignum()+'Typical evolution of the idealized atm.');"
   ]
  },
  {
   "cell_type": "code",
   "execution_count": null,
   "metadata": {},
   "outputs": [],
   "source": [
    "# State of the atmosphere at 00UTC of day 1 of the year (January 1th at 00h UTC)\n",
    "print(\"State of the atmosphere x0: \", x0)\n",
    "# Wind magnitude at that time\n",
    "print(\"Magnitude of the wind: \", nature.state2FF(x0))"
   ]
  },
  {
   "cell_type": "markdown",
   "metadata": {},
   "source": [
    "### **2.2 Wind speed observed along the idealized atmo. time evolution**"
   ]
  },
  {
   "cell_type": "code",
   "execution_count": null,
   "metadata": {},
   "outputs": [],
   "source": [
    "wind = lambda states_list : np.asarray([ nature.state2FF(state) for state in states_list])\n",
    "plt.plot(window_24h, wind(traj))\n",
    "plt.xlabel('Time (hours)')\n",
    "plt.ylabel('Wind speed magnitude')\n",
    "plt.title(Fignum()+\"Wind speed magnitude for days 0\");"
   ]
  },
  {
   "cell_type": "markdown",
   "metadata": {},
   "source": [
    "### **2.3 Climate of the wind speed: A one year in the idealized world**"
   ]
  },
  {
   "cell_type": "code",
   "execution_count": null,
   "metadata": {},
   "outputs": [],
   "source": [
    "# Create a database of 1year of atmospheric evolution (climate)\n",
    "nb_days = 33+365      # number of days in a year + one month for starting \n",
    "ndt = 24*4*nb_days # number of quarters of hour in a year\n",
    "window_climate = np.arange(ndt)*nature.dt"
   ]
  },
  {
   "cell_type": "code",
   "execution_count": null,
   "metadata": {},
   "outputs": [],
   "source": [
    "climate_traj = nature.predict(window_climate, x0)"
   ]
  },
  {
   "cell_type": "code",
   "execution_count": null,
   "metadata": {},
   "outputs": [],
   "source": [
    "wind_climate = wind(climate_traj)"
   ]
  },
  {
   "cell_type": "code",
   "execution_count": null,
   "metadata": {},
   "outputs": [],
   "source": [
    "plt.plot(window_climate, wind_climate)\n",
    "plt.xlabel('Time (hour)')\n",
    "plt.ylabel(\"Wind speed\")\n",
    "plt.title(Fignum()+'Time serie of the wind speed');"
   ]
  },
  {
   "cell_type": "markdown",
   "metadata": {},
   "source": [
    "**Some statistics for the wind speed**"
   ]
  },
  {
   "cell_type": "code",
   "execution_count": null,
   "metadata": {},
   "outputs": [],
   "source": [
    "wind_climate_mean = wind_climate.mean()\n",
    "wind_climate_std = wind_climate.std()\n",
    "print('Climate mean: ',wind_climate_mean)\n",
    "print('Climate typical variation (standard deviation): ',wind_climate_std)\n",
    "print('Minimum of observed wind: ',wind_climate.min())\n",
    "print('Maximum of observed wind: ', wind_climate.max())"
   ]
  },
  {
   "cell_type": "markdown",
   "metadata": {},
   "source": [
    "**Illustration of the wind speed climate**"
   ]
  },
  {
   "cell_type": "code",
   "execution_count": null,
   "metadata": {},
   "outputs": [],
   "source": [
    "plt.hist(wind_climate,100, density=True);\n",
    "plt.xlabel(\"Wind magnitude\")\n",
    "plt.ylabel(\"Density\")\n",
    "plt.title(Fignum()+\"Distribution of the wind magnitude\");"
   ]
  },
  {
   "cell_type": "markdown",
   "metadata": {},
   "source": [
    "<div style=\"margin:0 50px 0 50px\">\n",
    "<h4><b>Question: </b></h4>\n",
    "<div style=\"background:MistyRose\">\n",
    "\n",
    "describe the density of the atmospheric wind in this idealized world\n",
    "\n",
    "</div>\n",
    "</div>"
   ]
  },
  {
   "cell_type": "markdown",
   "metadata": {},
   "source": [
    "***Answer here***"
   ]
  },
  {
   "cell_type": "markdown",
   "metadata": {},
   "source": [
    "<div style=\"margin:0 50px 0 50px\">\n",
    "<h4><b>Question: </b></h4>\n",
    "<div style=\"background:MistyRose\">\n",
    "can you predict the wind speed of a day ahead when you don't know anything about the present weather situation ? What is the error of your prediction ? (in average) (indication: when you don't know anything, the best prediction is the climate mean)\n",
    "</div>\n",
    "</div>"
   ]
  },
  {
   "cell_type": "markdown",
   "metadata": {},
   "source": [
    "***Answer here***"
   ]
  },
  {
   "cell_type": "markdown",
   "metadata": {},
   "source": [
    "## **3. Wind power prediction**"
   ]
  },
  {
   "cell_type": "markdown",
   "metadata": {},
   "source": [
    "A **wind power plant** contains several **wind turbines** that convert a part of the mecahnical energy of the wind into electricity.\n",
    "\n",
    "The precise relation between the wind speed and the power production depends on several parameters: the technology used for the wind turbine, the topology of wind park, and of course the wind speed... But to protect the wind turbines from large wind  events, the production needs to stop when the wind speed is larger from a maximum treshold.\n",
    "\n",
    "While all these is complex to model and represent fairly, it can be simplified as a **transfert function** e.g. from experimental data.\n",
    "\n",
    "This transfert function gives the amount of power produced for a given level of wind speed. It can also be defined as a fraction of the maximal power production of a wind park.\n",
    "\n",
    "Thereafter, the transfert function is denoted by `FF2PE` and gives the power production related to the wind speed. We do not considered "
   ]
  },
  {
   "cell_type": "code",
   "execution_count": null,
   "metadata": {},
   "outputs": [],
   "source": [
    "from valeco import WindPowerPlant"
   ]
  },
  {
   "cell_type": "code",
   "execution_count": null,
   "metadata": {},
   "outputs": [],
   "source": [
    "powerplant = WindPowerPlant()"
   ]
  },
  {
   "cell_type": "code",
   "execution_count": null,
   "metadata": {},
   "outputs": [],
   "source": [
    "wind_speed = np.linspace(0.,1.,100)\n",
    "plt.plot(wind_speed, [powerplant.FF2PE(FF) for FF in wind_speed] )\n",
    "plt.xlabel(\"Wind speed\")\n",
    "plt.ylabel(\"Energy production\")\n",
    "plt.title(Fignum()+'Transfert function of energy prod.');\n",
    "plt.savefig(\"./figures/fig-transfert-function-wind-power.png\")"
   ]
  },
  {
   "cell_type": "code",
   "execution_count": null,
   "metadata": {},
   "outputs": [],
   "source": [
    "wind_power = lambda winds: np.asarray([ powerplant.FF2PE(FF) for FF in winds])\n",
    "\n",
    "traj = nature.predict(window_24h, x0)\n",
    "\n",
    "wind_power_observed = wind_power(wind(traj))\n",
    "\n",
    "plt.plot(window_24h, wind_power_observed)\n",
    "plt.xlabel('Time (hour)')\n",
    "plt.ylabel('Energy')\n",
    "plt.title(Fignum()+\"Wind power plant instantaneous production\");"
   ]
  },
  {
   "cell_type": "markdown",
   "metadata": {},
   "source": [
    "<div style=\"margin:0 50px 0 50px\">\n",
    "<h4><b>Question: </b></h4>\n",
    "<div style=\"background:MistyRose\">\n",
    "comment the wind production along the time. What can be the effect of such an intermitent renewable energy ?\n",
    "</div>\n",
    "</div>"
   ]
  },
  {
   "cell_type": "markdown",
   "metadata": {},
   "source": [
    "***Answer here***"
   ]
  },
  {
   "cell_type": "markdown",
   "metadata": {},
   "source": [
    "## **4. Real time prediction of the atmosphere**\n",
    "\n",
    "There exists several way to predict the weather from a given weather situation:\n",
    "\n",
    " * The **climate prediction**: the prediction is given by the climate mean, and is constant over the forecast window.\n",
    " * The **persistence**: the prediction is given by the value of the weather observed at the initial time of the forecast window.\n",
    " * The numerical weather prediction: the prediction is obtained from the numerical integration of atmosphere dynamics, from a given initial condition that is so-called **analysis state** in the realm of **data assimilation**\n"
   ]
  },
  {
   "cell_type": "markdown",
   "metadata": {},
   "source": [
    "**Definition of a predicting system that consits in an approximation of the true nature (with an additionnal error)**"
   ]
  },
  {
   "cell_type": "code",
   "execution_count": null,
   "metadata": {},
   "outputs": [],
   "source": [
    "model = valeco.Nature(f=0.01)\n",
    "x0a = x0+0.4*np.random.normal(size=3) # a prior state for the initial condition of the NWP forecast "
   ]
  },
  {
   "cell_type": "markdown",
   "metadata": {},
   "source": [
    "Here, the dynamics of the \"numerical model\" that would corresponds to the state-of-the-art numerical weather prediction in real application, is similar to the Nature except that a parameter is $f=0.01$ while for the nature it is $f=0.0$, so it mimics the realm of NWP. "
   ]
  },
  {
   "cell_type": "markdown",
   "metadata": {},
   "source": [
    "**Definitions of the different prediction system (climate, persistence and NWP)**"
   ]
  },
  {
   "cell_type": "code",
   "execution_count": null,
   "metadata": {},
   "outputs": [],
   "source": [
    "# Persistence model\n",
    "dynamics = {\n",
    "    'nature': nature,\n",
    "    'NWP forecast': model,\n",
    "    'persistence': valeco.Persistence(),\n",
    "    'clim. pred.': valeco.Climate(climate_traj),\n",
    "}"
   ]
  },
  {
   "cell_type": "code",
   "execution_count": null,
   "metadata": {},
   "outputs": [],
   "source": [
    "dynamics['clim. pred.']._mean"
   ]
  },
  {
   "cell_type": "markdown",
   "metadata": {},
   "source": [
    "### **4.1 About the interest to prediction the wind speed from a numerical model**"
   ]
  },
  {
   "cell_type": "markdown",
   "metadata": {},
   "source": [
    "In this section we explore the interest different forecasting approach for a given date."
   ]
  },
  {
   "cell_type": "code",
   "execution_count": null,
   "metadata": {},
   "outputs": [],
   "source": [
    "initial_states = {\n",
    "    'nature': x0,\n",
    "    'NWP forecast': x0a,\n",
    "    'persistence': x0a,\n",
    "    'clim. pred.': x0a,\n",
    "}"
   ]
  },
  {
   "cell_type": "code",
   "execution_count": null,
   "metadata": {},
   "outputs": [],
   "source": [
    "wind_data = { \n",
    "    dynamic:wind(dynamics[dynamic].predict(window_24h, initial_states[dynamic])) for dynamic in dynamics\n",
    "}\n",
    "error_wind_data = { \n",
    "    dynamic:wind_data[dynamic] - wind_data['nature'] for dynamic in dynamics if dynamic != 'nature'\n",
    "}"
   ]
  },
  {
   "cell_type": "code",
   "execution_count": null,
   "metadata": {},
   "outputs": [],
   "source": [
    "# Comparison of the wind speed prediction versus the observation\n",
    "[fig, axes] = plt.subplots(1,2, figsize=(12,4))\n",
    "ax1, ax2 = axes\n",
    "\n",
    "for key, value in wind_data.items():\n",
    "    ax1.plot(window_24h, value,label=key)\n",
    "ax1.set_xlabel('Time (in hours)')\n",
    "ax1.set_ylabel('Wind speed magnitude')\n",
    "ax1.set_title('(a) Wind speed magnitude for days 0')\n",
    "ax1.legend()\n",
    "\n",
    "# Discepency between real wind speed and its differents predictions.\n",
    "for key, value in error_wind_data.items():\n",
    "    ax2.plot(window_24h, value,label=key)\n",
    "\n",
    "ax2.set_xlabel('Time (in hours)')\n",
    "ax2.set_ylabel('Error magnitude')\n",
    "ax2.set_title('(b) Error in predicting the Wind speed:\\n num. forecast vs climate mean ')\n",
    "ax2.legend();"
   ]
  },
  {
   "cell_type": "markdown",
   "metadata": {},
   "source": [
    "<div style=\"margin:0 50px 0 50px\">\n",
    "<h4><b>Question: </b></h4>\n",
    "<div style=\"background:MistyRose\">\n",
    "<ol>\n",
    "    <li>From panel (a), describe the wind of the nature and of the forecast for day 0, are they exaclty the same ?</li>\n",
    "    <li>Is it interesting to forecast the wind speed from numerical weather prediction (compared with the climate mean and the persistence) ?\n",
    "</li>\n",
    "</ol>    \n",
    "</div>\n",
    "</div>"
   ]
  },
  {
   "cell_type": "markdown",
   "metadata": {},
   "source": [
    "***Answer here***"
   ]
  },
  {
   "cell_type": "markdown",
   "metadata": {},
   "source": [
    "### **4.2 Impact on the prediction of a wind park production**"
   ]
  },
  {
   "cell_type": "markdown",
   "metadata": {},
   "source": [
    "Now we explore the impact of the forecast on the power prediction."
   ]
  },
  {
   "cell_type": "code",
   "execution_count": null,
   "metadata": {},
   "outputs": [],
   "source": [
    "# Wind power prod. : real vs. predicted\n",
    "\n",
    "wind_power_data = { dynamic: wind_power(wind_data[dynamic]) for dynamic in dynamics }\n",
    "\n",
    "error_wind_power_data = { \n",
    "    dynamic:wind_power_data[dynamic] - wind_power_data['nature'] for dynamic in dynamics if dynamic != 'nature'\n",
    "}\n",
    "\n",
    "\n",
    "# Comparison of the wind speed prediction versus the observation\n",
    "[fig, axes] = plt.subplots(1,2, figsize=(12,4))\n",
    "ax1, ax2 = axes\n",
    "for key, value in wind_power_data.items():\n",
    "    ax1.plot(window_24h, value,label=key)\n",
    "ax1.set_xlabel('Time (in hours)')\n",
    "ax1.set_ylabel('Power')\n",
    "ax1.set_title('(a) Wind power plant instantaneous production\\n for a typical day')\n",
    "ax1.legend()\n",
    "\n",
    "# Discepency between real wind speed and its differents predictions.\n",
    "\n",
    "for key, value in error_wind_power_data.items():\n",
    "    ax2.plot(window_24h, value,label=key)\n",
    "\n",
    "ax2.plot([window_24h[k] for k in [0, -1]], 2*(wind_climate_std,),label='Climate fluctuation of wind speed')\n",
    "\n",
    "ax2.set_xlabel('Time (in hours)')\n",
    "ax2.set_ylabel('Err. of pred. power prod.')\n",
    "ax2.set_title('(b) Error in pred. Wind power plant\\n instantaneous production for day 0')\n",
    "ax2.legend();"
   ]
  },
  {
   "cell_type": "markdown",
   "metadata": {},
   "source": [
    "### **4.3 Impact on the prediction of a wind park total production**"
   ]
  },
  {
   "cell_type": "markdown",
   "metadata": {},
   "source": [
    "**Comparison of total production along the day**"
   ]
  },
  {
   "cell_type": "code",
   "execution_count": null,
   "metadata": {},
   "outputs": [],
   "source": [
    "total_prod = {key: sum(value) for key,value in wind_power_data.items()}"
   ]
  },
  {
   "cell_type": "code",
   "execution_count": null,
   "metadata": {},
   "outputs": [],
   "source": [
    "total_prod"
   ]
  },
  {
   "cell_type": "markdown",
   "metadata": {},
   "source": [
    "**Production observed along the climate**"
   ]
  },
  {
   "cell_type": "code",
   "execution_count": null,
   "metadata": {},
   "outputs": [],
   "source": [
    "plt.plot(wind_power(wind(climate_traj)))"
   ]
  },
  {
   "cell_type": "markdown",
   "metadata": {},
   "source": [
    "### **4.4 Impact of uncertainty on PE prediction**"
   ]
  },
  {
   "cell_type": "markdown",
   "metadata": {},
   "source": [
    "This section illustrates what happends when the initial state is not perfectly known and when an ensemble is introduced so sample the futur."
   ]
  },
  {
   "cell_type": "code",
   "execution_count": null,
   "metadata": {},
   "outputs": [],
   "source": [
    "Ne = 30\n",
    "trajectories = {\n",
    "    'nature': nature.predict(window_24h,x0),\n",
    "    'NWP forecast' : model.predict(window_24h,x0a),\n",
    "    'NWP ensemble for.' : model.ensemble_forecast(window_24h,(x0a+0.4*np.random.normal(size=3) for k in range(Ne))),\n",
    "}\n",
    "colors = {\n",
    "    'nature': 'b--',\n",
    "    'NWP forecast' : 'b',\n",
    "    'NWP ensemble for.' : 'g',\n",
    "}"
   ]
  },
  {
   "cell_type": "code",
   "execution_count": null,
   "metadata": {},
   "outputs": [],
   "source": [
    "plt.figure(figsize=(12,5))\n",
    "for name, traj in trajectories.items():\n",
    "    if name!='NWP ensemble for.':\n",
    "        #plt.plot(window_24h, traj[:,2], colors[name], label=name)\n",
    "        plt.plot(window_24h, wind(traj), colors[name], label=name)\n",
    "    else:\n",
    "        for member in range(Ne):\n",
    "            data = wind([traj[t][member] for t in window_24h])\n",
    "            label = name if member==0 else None            \n",
    "            plt.plot(window_24h, data, colors[name], alpha=0.2, label=label)\n",
    "\n",
    "plt.xlabel('Time (hour)')\n",
    "plt.ylabel('Wind magnitude')\n",
    "plt.legend()\n",
    "plt.title(Fignum()+\"Deterministic vs. ensemble predictions of wind speed\");\n",
    "plt.savefig('./figures/fig-uncertainty-weather-forecast.png')"
   ]
  },
  {
   "cell_type": "markdown",
   "metadata": {},
   "source": [
    "<div style=\"margin:0 50px 0 50px\">\n",
    "<h4><b>Question: </b></h4>\n",
    "<div style=\"background:MistyRose\">\n",
    "Previous figure represents the time evolution of wind speed when predicted from a single forecast (blue) vs. an ensemble of forecasts (green), the observation (the nature) is the dashed blue line.\n",
    "<ol>\n",
    "    <li>What is the time evolution of the uncertainty here ?</li>\n",
    "    <li>What is a phase shift error of prediction? </li>\n",
    "    <li>What is the interest of ensemble prediction? </li>\n",
    "</ol>    \n",
    "</div>\n",
    "</div>"
   ]
  },
  {
   "cell_type": "markdown",
   "metadata": {},
   "source": [
    "***Answer here***"
   ]
  },
  {
   "cell_type": "markdown",
   "metadata": {},
   "source": [
    "### **4.5 Assimilation cycle to built a data base for real time PE prediction**"
   ]
  },
  {
   "cell_type": "markdown",
   "metadata": {},
   "source": [
    "#### **4.5.1 EnKF cycles**"
   ]
  },
  {
   "cell_type": "code",
   "execution_count": null,
   "metadata": {},
   "outputs": [],
   "source": [
    "#EnKF\n",
    "nb_heating_cycles = 33\n",
    "nb_cycles = (2*365)*4 + nb_heating_cycles\n",
    "\n",
    "Ne = 30\n",
    "stdo = 0.8\n",
    "xf = x0+0.3*np.random.normal(size=3)\n",
    "Xf = [xf+0.3*np.random.normal(size=3) for k in range(Ne)]\n",
    "analysis_error = []\n",
    "\n",
    "H = np.eye(3)\n",
    "R = stdo**2*H\n",
    "xt = x0\n",
    "\n",
    "assim_nature_db = [] # true state\n",
    "assim_eps_db = []    # ensemble of forecasts\n",
    "assim_obs_db = []    # ensemble of forecasts\n",
    "assim_Xa_db = []\n",
    "assim_xt_db = []\n",
    "\n",
    "print(\"Compute assimilation cycles over a long period\")\n",
    "\n",
    "for k in valeco.range_bar(nb_cycles):\n",
    "    #\n",
    "    # Analysis state\n",
    "    #\n",
    "    # Build synthetic observations to mimic real observations of Nature\n",
    "    yo = xt + stdo*np.random.normal(size=3)\n",
    "    \n",
    "    # Estimate the covariance matrix    \n",
    "    ef = (np.asarray(Xf) - np.asarray(Xf).mean(axis=0)).T\n",
    "    Pf = 1/Ne* ef@ef.T\n",
    "    # Compute Kalman's gain matrix K\n",
    "    Ke = Pf@H.T@np.linalg.inv(H@Pf@H.T+R)\n",
    "    # Assimilate base on error perturbation\n",
    "    def assim(xf, yo):\n",
    "        d = yo.T - H@xf.T\n",
    "        xa = xf.T+Ke@d\n",
    "        return xa.T\n",
    "    \n",
    "    perturbed_obs_gen = (yo+stdo*np.random.normal(size=3) for k in range(Ne))\n",
    "    \n",
    "    Xa = []\n",
    "    for xf,yop in zip(Xf, perturbed_obs_gen):\n",
    "        Xa.append(assim(xf, yop))\n",
    "        \n",
    "    \n",
    "    #\n",
    "    # Forecast step\n",
    "    #\n",
    "    xft = nature.predict(window_6h, xt)[-1]\n",
    "    \n",
    "    ens_traj = model.ensemble_forecast(window_6h, Xa)    \n",
    "    Xf = ens_traj[window_6h[-1]]\n",
    "    \n",
    "    \n",
    "    #\n",
    "    # Built data base after a heating period of 33 cycles.\n",
    "    #\n",
    "    if k>nb_heating_cycles:\n",
    "        assim_obs_db.append(yo)\n",
    "        assim_xt_db.append(xt)\n",
    "        assim_Xa_db.append(Xa)\n",
    "        \n",
    "        analysis_error.append(np.linalg.norm(np.asmatrix(Xa).mean(axis=0)-xt))        \n",
    "        \n",
    "        assim_nature_db.append(xft)    # True state \n",
    "        assim_eps_db.append(Xf)        # EPS prediction of the true state xft.\n",
    "        \n",
    "    xt = xft\n",
    "        \n",
    "    \n",
    "        \n",
    "    \n",
    "    "
   ]
  },
  {
   "cell_type": "markdown",
   "metadata": {},
   "source": [
    "\n",
    "\n",
    "#### **4.5.2 Validation data assimilation**"
   ]
  },
  {
   "cell_type": "markdown",
   "metadata": {},
   "source": [
    "**Magnitude of the analysis error along the time**"
   ]
  },
  {
   "cell_type": "code",
   "execution_count": null,
   "metadata": {},
   "outputs": [],
   "source": [
    "plt.plot(analysis_error)"
   ]
  },
  {
   "cell_type": "markdown",
   "metadata": {},
   "source": [
    "**Magnitude of the forecast error standard-deviation computed from the ensemble along the time**"
   ]
  },
  {
   "cell_type": "code",
   "execution_count": null,
   "metadata": {},
   "outputs": [],
   "source": [
    "# Exploration de la prévision déterministe déduite de l'ensemble\n",
    "forecasts = [np.mean(ens,axis=0) for ens in assim_eps_db]\n",
    "std_forecasts = np.asarray([np.std(ens,axis=0) for ens in assim_eps_db])"
   ]
  },
  {
   "cell_type": "markdown",
   "metadata": {},
   "source": [
    "So to evaluate the uncertainty prediction we can compute a diagnosis of the total uncertainty. For instance, the averaged std given as \n",
    "$$\\sigma_\\textrm{tot.} = \\sqrt{\\frac{1}{n}\\sum_j \\sigma(x_j)^2},$$\n",
    "where $\\sigma(x_j)$ denotes the standard-deviation of the forecast error of the $j^\\textrm{th}$ component of the state vector $\\mathbf{x}=(x_1,x_2,x_3)$."
   ]
  },
  {
   "cell_type": "code",
   "execution_count": null,
   "metadata": {},
   "outputs": [],
   "source": [
    "total_std_forecasts = np.sqrt((std_forecasts**2).mean(axis=1))\n",
    "plt.plot(total_std_forecasts)\n",
    "plt.xlabel('Assim. cycles')\n",
    "plt.ylabel('Equivalent total std')\n",
    "plt.title(Fignum()+'Total mean std');"
   ]
  },
  {
   "cell_type": "markdown",
   "metadata": {},
   "source": [
    "**Assimilation cycles of largest uncertainty**"
   ]
  },
  {
   "cell_type": "code",
   "execution_count": null,
   "metadata": {},
   "outputs": [],
   "source": [
    "# Illustration of situations of large uncertainty prediction\n",
    "\n",
    "argmax_std = total_std_forecasts.argmax()\n",
    "\n",
    "plt.figure(figsize=(15,5))\n",
    "start_sample = argmax_std-10\n",
    "end_sample = argmax_std+10\n",
    "for k,panel in zip(range(3),'abc'):\n",
    "    plt.subplot(131+k)\n",
    "    # Nature\n",
    "    plt.plot(range(start_sample,end_sample),[state[k] for state in assim_nature_db[start_sample:end_sample]],label='nature')\n",
    "    # Forecast + uncertainty\n",
    "    plt.plot(range(start_sample,end_sample),[state[k] for state in forecasts[start_sample:end_sample]],label='forecast')\n",
    "    plt.plot(range(start_sample,end_sample),[state[k]+std[k] for state,std in zip(forecasts[start_sample:end_sample],std_forecasts[start_sample:end_sample])],'r',label='forecsat$\\pm$std')\n",
    "    plt.plot(range(start_sample,end_sample),[state[k]-std[k] for state,std in zip(forecasts[start_sample:end_sample],std_forecasts[start_sample:end_sample])],'r')\n",
    "    # Observation\n",
    "    plt.plot(range(start_sample,end_sample),[obs[k] for obs in assim_obs_db[start_sample+1:end_sample+1]], 'o',label='syntethic obs (yo)',)\n",
    "    plt.xlabel('Cycle number')\n",
    "    if k==0:\n",
    "        plt.legend()\n",
    "    plt.title(f'({panel}) '+'Times series for component $x_{'+str(k+1)+'}$')\n",
    "plt.suptitle(Fignum()+'Illustration of a situation of very large uncertainty prediction');"
   ]
  },
  {
   "cell_type": "markdown",
   "metadata": {},
   "source": [
    "<div style=\"margin:0 50px 0 50px\">\n",
    "<h4><b>Question: </b></h4>\n",
    "<div style=\"background:MistyRose\">\n",
    "Comment the previous times series that show the evolution of the nature, its observation, and the ensemble of forecast (mean +/- std).\n",
    "</div>\n",
    "</div>"
   ]
  },
  {
   "cell_type": "markdown",
   "metadata": {},
   "source": [
    "***Answer here***"
   ]
  },
  {
   "cell_type": "markdown",
   "metadata": {},
   "source": [
    "#### **4.5.3 Built data base for PE prediction**"
   ]
  },
  {
   "cell_type": "markdown",
   "metadata": {},
   "source": [
    "**Compute the data base for instantaneous or total production**"
   ]
  },
  {
   "cell_type": "code",
   "execution_count": null,
   "metadata": {},
   "outputs": [],
   "source": [
    "# Computation of the total PE 24h ahead or instantaneous PE 6h ahead\n",
    "total_PE = False\n",
    "if total_PE:\n",
    "    # Computation of the total PE production predicted 24h ahead vs. observed.\n",
    "    PEt = []\n",
    "    PEeps = []\n",
    "    PEf = [] # computed from the mean ensemble state.\n",
    "    for k in valeco.range_bar(nb_cycles):\n",
    "        # Ensemble predictions        \n",
    "        traj = model.ensemble_forecast(window_24h,assim_Xa_db[k])\n",
    "        \n",
    "        # Computation of the total production predicted a day ahead\n",
    "        # 1. Ensemble of forecast\n",
    "        predicted_total_PEs = np.zeros(Ne)\n",
    "        for t in window_24h:\n",
    "            predicted_total_PEs += wind_power(wind(traj[t]))\n",
    "\n",
    "        PEeps.append(predicted_total_PEs)\n",
    "        \n",
    "        # 2. Computation for the ensemble mean Xf mean (ensemble)\n",
    "        ensemble_mean = [np.asarray(traj[t]).mean(axis=0) for t in window_24h]\n",
    "        FFf = wind(ensemble_mean)\n",
    "        PEf = wind_power(wind(ensemble_mean))\n",
    "        \n",
    "\n",
    "\n",
    "        # Observed true production\n",
    "        observed_total_PE = sum(wind_power(wind(nature.predict(window_24h, assim_nature_db[k]))))\n",
    "        PEt.append(observed_total_PE)\n",
    "else:\n",
    "    PEt = wind_power(wind(assim_nature_db))\n",
    "    PEeps = [wind_power(wind(Xf)) for Xf in assim_eps_db]\n",
    "    PEf = [wind_power(wind([np.asarray(Xf).mean(axis=0)])) for Xf in assim_eps_db]\n",
    "    FFf = [wind([np.asarray(Xf).mean(axis=0)]) for Xf in assim_eps_db]\n",
    "    FFeps = [wind(Xf) for Xf in assim_eps_db]"
   ]
  },
  {
   "cell_type": "markdown",
   "metadata": {},
   "source": [
    "**Exploration of the observed vs. predicted production**"
   ]
  },
  {
   "cell_type": "code",
   "execution_count": null,
   "metadata": {},
   "outputs": [],
   "source": [
    "def plot_predic_vs_true(PEt, PEf, ax):    \n",
    "\n",
    "    try:\n",
    "        Ne = len(PEf[0])        \n",
    "    except:\n",
    "        Ne = 1\n",
    "        \n",
    "    if Ne>1:\n",
    "        data_PEt = []\n",
    "        data_PEf = []        \n",
    "        for pet, pef in zip(PEt, PEf):            \n",
    "            data_PEf += [pe for pe in pef]\n",
    "            data_PEt += Ne*[pet]\n",
    "    else:\n",
    "        data_PEf = PEf\n",
    "        data_PEt = PEt\n",
    "            \n",
    "    ax.plot(data_PEf, data_PEt,'k.')\n"
   ]
  },
  {
   "cell_type": "code",
   "execution_count": null,
   "metadata": {},
   "outputs": [],
   "source": [
    "fig, AX = plt.subplots(2,2,figsize=(12,12))\n",
    "\n",
    "AX = AX.flatten()\n",
    "\n",
    "ax = AX[0]\n",
    "plot_predic_vs_true(PEt, FFf, ax)\n",
    "ax.set_title('(a) Forecasted FF vs. Observed Power Production')\n",
    "ax.set_xlabel('FFf (prediction)')\n",
    "ax.set_ylabel('PEt (observed)')    \n",
    "\n",
    "ax = AX[1]\n",
    "plot_predic_vs_true(PEt, FFeps, ax)\n",
    "ax.set_title('(b) Ens. Forecasted FF vs. Observed Power Production')\n",
    "ax.set_xlabel('FFeps (ens. prediction)')\n",
    "ax.set_ylabel('PEt (observed)')    \n",
    "\n",
    "ax = AX[2]\n",
    "plot_predic_vs_true(PEt, PEf,ax)\n",
    "ax.set_title('(c) Forecast vs. Observed Power Production')\n",
    "ax.set_xlabel('PEf (prediction)')\n",
    "ax.set_ylabel('PEt (observed)')    \n",
    "\n",
    "ax = AX[3]\n",
    "plot_predic_vs_true(PEt,PEeps, ax)\n",
    "ax.set_title('(d) Ens. Forecast vs. Observed Power Production')\n",
    "ax.set_xlabel('PEf (prediction)')\n",
    "ax.set_ylabel('PEt (observed)');\n",
    "\n",
    "plt.suptitle(Fignum()+\"Prediction vs. observed PE\");"
   ]
  },
  {
   "cell_type": "markdown",
   "metadata": {},
   "source": [
    "**Losses due to the error of prediction**"
   ]
  },
  {
   "cell_type": "code",
   "execution_count": null,
   "metadata": {},
   "outputs": [],
   "source": [
    "# Computation of the loss in case where the prediction is used as the contract \n",
    "loss(PEf[0], PEt[0])"
   ]
  },
  {
   "cell_type": "code",
   "execution_count": null,
   "metadata": {},
   "outputs": [],
   "source": [
    "losses = [loss(pef, pe) for pef, pe in zip(PEf, PEt)]"
   ]
  },
  {
   "cell_type": "code",
   "execution_count": null,
   "metadata": {},
   "outputs": [],
   "source": [
    "plt.plot(losses, label='loss')\n",
    "plt.plot(np.cumsum(losses), label='cum. losses')\n",
    "plt.title(Fignum()+\"Losses due to the error of prediction\")\n",
    "plt.xlabel(\"Time\")\n",
    "plt.ylabel(\"Loss magnitude\");"
   ]
  },
  {
   "cell_type": "markdown",
   "metadata": {},
   "source": [
    "## **5. Optimization of the contract PE: $PE_c$**"
   ]
  },
  {
   "cell_type": "markdown",
   "metadata": {},
   "source": [
    "As seen in the previous section, a bad estimation of $PE_c$ can leads to losses. \n",
    "\n",
    "How to specify the production in the contract ? so to reduce the losses ?\n",
    "\n",
    "$$L(PE_c, PE) = k_1 (PE-PE_c)^+ - k_2 (PE_c-PE)^+.$$\n",
    "\n",
    "Different strategies can be introduced depending on the amount of informations that are available. Here three kind of information can be introduced:\n",
    "- the climate, \n",
    "- the forecast, \n",
    "- the ensemble of forecasts.\n",
    "\n",
    "which leads to three different strategies for setting the best PE to prescribes in the contract of the producer, $PE_c^*$ ."
   ]
  },
  {
   "cell_type": "markdown",
   "metadata": {},
   "source": [
    "### **5.1 Details of the strategies**"
   ]
  },
  {
   "cell_type": "markdown",
   "metadata": {},
   "source": [
    "**1) Best $PE_c$ from past observation of PE (climate of PE)**\n",
    "\n",
    "If no information is available, than the value of $PE_c$ can be deduced from the observed typical values of $PE$ so to minimise the losses.\n",
    "\n",
    "In particular, if we observed $(PE_i)_{i\\in Clim.}$, a prior loss associated witth a value of $PE_c$ is given by\n",
    "$$\\widehat{L}_\\mathrm{clim.}(PE_c)=\\frac{1}{\\#Clim.}\\sum_{i\\in Clim.} L(PE_c,PE_i),$$\n",
    "where $\\#\\cdot$ stands for the cardinality operator which return the size of an ensemble. \n",
    "We recognize here the expectation of the loss over the climate data, \n",
    "$$\\widehat{L}_\\mathrm{clim.}(PE_c)=\\mathbb{E}_{PE} [L(PE_c,PE)],$$\n",
    "\n",
    "Hence, the best $PE_c^*$ value of $PE_c$ would be such that it mimize this averaged loss, that is \n",
    "$$PE_c^* = \\textrm{ArgMin}_{PE_c} \\mathbb{E}_{PE} [L(PE_c,PE)].$$\n",
    "\n",
    "Note that because $\\widehat{L}_\\mathrm{clim.}(PE_c)$ is not linear (since $L$ is not linear), then the best value $PE_c^*$ may be different from $\\mathbb{E}[PE]\\equiv \\frac{1}{\\#Clim.}\\sum_{i\\in Clim.} PE_i$."
   ]
  },
  {
   "cell_type": "markdown",
   "metadata": {},
   "source": [
    "**2) Best $PE_c$ from prediction system ($PE_f$)**\n",
    "\n",
    "If a prediction $PE_f$ of $PE$ is available, since it provides a valuable information compared with climate (constant) prediction, it should be able to obtain a better proposal for $PE_c^*$ so to minimizes the losses.\n",
    "\n",
    "In spite of the quality of the forecasts, the forecast error induces a loss, but this time the loss depends on the forecast value. By adapting the a priori climatologial loss, the loss expected for a givent prediction reads as  \n",
    "$$\\widehat{L}_f(PE_c, PE_f)=\\mathbb{E}_{PE} [L(PE_c,PE)/PEf],$$\n",
    "or\n",
    "$$\\widehat{L}_f(PE_c,PE_f)=\\int_{PE} L(PE_c,PE) p(PE/PEf) dPE.$$\n",
    "where $p(PE/PEf)$ denotes the conditionnal density of observed $PE$ for a given prediction $PE_f$.\n",
    "\n",
    "To evaluate this loss, we need to determine the conditionnal density $p(PE,PE_f)$, which can be deduced from the past statitics of prediction Fig. 11\n",
    "\n",
    "Then the optimal value reads as \n",
    "$$PE_c^* = \\textrm{ArgMin}_{PE_c} \\mathbb{E}_{PE} [L(PE_c,PE)/PEf].$$"
   ]
  },
  {
   "cell_type": "markdown",
   "metadata": {},
   "source": [
    "**3) Best $PE_c$ from ensemble prediction system ($PE_\\textrm{eps.}$)**\n",
    "\n",
    "Now, when an ensemble of prediction is known, the prior loss that account from  this information can be written as \n",
    "$$\\widehat{L}_\\textrm{eps.} (PE_c, PE_\\textrm{eps.})=\\mathbb{E}_{PE_f}\\left[\\mathbb{E}_{PE} [L(PE_c,PE)/PEf]\\right].$$\n",
    "\n",
    "When the distribution of $PE_f$ is known from an ensemble of forecasts $PE_\\textrm{eps.}=(PE_{f_k})_{k\\in[1,N_e]}$, the empirical mean is used for the computation of the expectation $\\mathbb{E}_{PE_f}$, so that\n",
    "$$\\widehat{L}_\\textrm{eps.} (PE_c, PE_\\textrm{eps.})=\\frac{1}{Ne}\\sum_{k\\in[1,N_e]} \\mathbb{E}_{PE} [L(PE_c,PE)/PEf_k].$$\n"
   ]
  },
  {
   "cell_type": "markdown",
   "metadata": {},
   "source": [
    "### **5.2 Optimization strategies for $\\widehat{L}$**\n",
    "\n",
    "**Random walk exploration (simulated annealing)**"
   ]
  },
  {
   "cell_type": "code",
   "execution_count": null,
   "metadata": {},
   "outputs": [],
   "source": [
    "def simulated_annealing(l, seed, magnitude = 0.01):\n",
    "    \"\"\" solve ArgMin l(x) starting from x=seed following a metaheuristic strategy \"\"\"    \n",
    "    k=0\n",
    "    while k<1000:        \n",
    "        l_seed = l(seed)\n",
    "        if k%20==0:\n",
    "            magnitude /= 2\n",
    "        explore = seed + magnitude*np.random.normal()\n",
    "        \n",
    "        l_explore = l(explore)\n",
    "        \n",
    "        if l_explore<l_seed:\n",
    "            #print(k, seed, explore, l_seed, l_explore )\n",
    "            seed = explore\n",
    "            \n",
    "        k+=1\n",
    "    return seed"
   ]
  },
  {
   "cell_type": "markdown",
   "metadata": {},
   "source": [
    "**Newton's iterations for solving $\\widehat{L}'(PEc)=0$**"
   ]
  },
  {
   "cell_type": "markdown",
   "metadata": {},
   "source": [
    "If  $\\widehat{L}(PE_c)$ is smooth enough, a better algorithm to find the optimal value $PE_c^*$ \n",
    "$$PE_c^* = \\textrm{ArgMin}_{PE_c} \\widehat{L}(PE_c),$$\n",
    "is the solution of $$\\frac{d\\widehat{L}}{dPE_c}(PE_c)=0,$$\n",
    "that can be solved from Newton's iterations.\n",
    "\n",
    "Remind that Newton's iterations are introduced to solve a problem as $F(x)=0$, whose an approximation of the solution is deduced from the sequence \n",
    "$$x_{q+1} = x_q - \\frac{F(x_q)}{F'(x_q)}.$$"
   ]
  },
  {
   "cell_type": "code",
   "execution_count": null,
   "metadata": {},
   "outputs": [],
   "source": [
    "def derivative(F, h=1e-5):    \n",
    "    return lambda x: (F(x+h)-F(x-h))/(2*h)"
   ]
  },
  {
   "cell_type": "code",
   "execution_count": null,
   "metadata": {},
   "outputs": [],
   "source": [
    "def newtons_iterations(F, seed, tol=1e-10, max_iter = 20):\n",
    "    \"\"\" Compute Newton's iteration from formal/numerical evaluation of dF \n",
    "    :param: F : a scalar function\n",
    "    :return: state : value of F so that F(state)\\approx 0\n",
    "    \"\"\"\n",
    "    dF = derivative(F)\n",
    "    state = seed\n",
    "    for k in range(max_iter):\n",
    "        state = state - F(state)/dF(state)\n",
    "        if np.linalg.norm(F(state))<tol:\n",
    "            print(f\"Convergence is achieved after {k} iterations\")\n",
    "            break\n",
    "    return state"
   ]
  },
  {
   "cell_type": "markdown",
   "metadata": {},
   "source": [
    "An important requirement for Newton's iteration is to provide a starting point (seed) that is closed to the state we find. "
   ]
  },
  {
   "cell_type": "markdown",
   "metadata": {},
   "source": [
    "### **5.3 Abstract strategy**"
   ]
  },
  {
   "cell_type": "markdown",
   "metadata": {},
   "source": [
    "**Definition of strategies**\n",
    "\n",
    "So to compare the different strategies, we introduce an abstract (generic) classe for the experimental testbed"
   ]
  },
  {
   "cell_type": "code",
   "execution_count": null,
   "metadata": {},
   "outputs": [],
   "source": [
    "class PEcStrategy(object):\n",
    "    \"\"\" Abstract class for a PEc strategy \"\"\"\n",
    "           \n",
    "    optimizers = ['newton', 'simulated_annealing','argmin']    \n",
    "    \n",
    "    def __init__(self, *args, optim='newton',**kwargs):\n",
    "        self._optimizer = optim\n",
    "        \n",
    "    def hat_loss(self, pec):\n",
    "        \"\"\" Loss function to optimize \"\"\"\n",
    "        raise NotImplementedError\n",
    "        \n",
    "    def set_weather_information(self, *args, **kwargs):\n",
    "        \"\"\" Set weather information \"\"\"\n",
    "        pass\n",
    "    \n",
    "    def plot_hat_loss(self):\n",
    "        \"\"\" Plot of the loss function for a given weather situation \"\"\"\n",
    "        pec = np.linspace(0,1,200)\n",
    "        plt.plot(pec,[self.hat_loss(p) for p in pec])\n",
    "        plt.xlabel(\"PEc\")\n",
    "        plt.title('Loss $\\widehat{L}(PE_c)$ depending on the information content')\n",
    "\n",
    "    def get_seed(self):\n",
    "        \"\"\" Get seed from simple computation to improve the PEc^* value\"\"\"\n",
    "        PEc = np.linspace(0,1,50)\n",
    "        idx = np.array([self.hat_loss(pec) for pec in PEc]).argmin()\n",
    "        return PEc[idx]\n",
    "        \n",
    "    def get_pec(self, seed=None):\n",
    "        \"\"\" Gest the optimal value \n",
    "        \n",
    "        description\n",
    "        -----------\n",
    "        \n",
    "        The optimal value is found for  $dL(PEC)/dPEC = 0$ where $L$ is the loss function to optimize\n",
    "        \n",
    "        This is solved considering Newton's iteration method.\n",
    "        \n",
    "        \"\"\"        \n",
    "        \n",
    "        assert self._optimizer in self.optimizers\n",
    "        \n",
    "        if self._optimizer in ['newton', 'simulating_annealing']:\n",
    "            if seed is None:\n",
    "                seed = self.get_seed()\n",
    "        \n",
    "        if self._optimizer == 'newton':                        \n",
    "            return newtons_iterations(derivative(self.hat_loss), seed)\n",
    "        elif self._optimizer == 'simulated_annealing':\n",
    "            return simulated_annealing(self.hat_loss, seed)\n",
    "        else:\n",
    "            PEc = np.linspace(0,1,200)\n",
    "            idx = np.array([self.hat_loss(pec) for pec in PEc]).argmin()\n",
    "            return PEc[idx]\n"
   ]
  },
  {
   "cell_type": "code",
   "execution_count": null,
   "metadata": {},
   "outputs": [],
   "source": [
    "strategies = {} # dictionnary of strategies."
   ]
  },
  {
   "cell_type": "markdown",
   "metadata": {},
   "source": [
    "## **6. Implementation of the strategies**"
   ]
  },
  {
   "cell_type": "markdown",
   "metadata": {},
   "source": [
    "### **6.0 Observed $PE$ production from the past (climate of $PE$)**"
   ]
  },
  {
   "cell_type": "code",
   "execution_count": null,
   "metadata": {},
   "outputs": [],
   "source": [
    "# Computation of the optimal value of $PE_c$ so to minimize the losses\n",
    "# Computation of the climate of PE\n",
    "climate_PE = wind_power(wind_climate)"
   ]
  },
  {
   "cell_type": "code",
   "execution_count": null,
   "metadata": {},
   "outputs": [],
   "source": [
    "plt.figure(figsize=(12,5))\n",
    "plt.hist(climate_PE,100)\n",
    "plt.subplot(121)\n",
    "plt.hist(wind_climate,100, density=True);\n",
    "plt.xlabel(\"Wind magnitude\")\n",
    "plt.ylabel(\"Density\")\n",
    "plt.title(\"(a) Distribution of the wind magnitude\");\n",
    "\n",
    "plt.subplot(122)\n",
    "plt.hist(climate_PE,100, density=True, log=True);\n",
    "plt.xlabel(\"PE magnitude\")\n",
    "plt.ylabel(\"Density (log)\")\n",
    "plt.title(\"(b) Distribution of the PE production\");"
   ]
  },
  {
   "cell_type": "markdown",
   "metadata": {},
   "source": [
    "**Mean PE form the past as a proxy for PEc (when no assymetric loss)**"
   ]
  },
  {
   "cell_type": "code",
   "execution_count": null,
   "metadata": {},
   "outputs": [],
   "source": [
    "# Mean production observed from the past\n",
    "mean_PE = climate_PE.mean()\n",
    "print(\"Mean PE observed from the past: \", mean_PE)"
   ]
  },
  {
   "cell_type": "markdown",
   "metadata": {},
   "source": [
    "### **6.1 Best $PE_c$ from past observation of PE: $\\widehat{L}_\\mathrm{clim.}(PE_c)=\\mathbb{E}_{PE} [L(PE_c,PE)]$**"
   ]
  },
  {
   "cell_type": "markdown",
   "metadata": {},
   "source": [
    "For this strategy to specfy $PE_c^*$, the value of $PE_c^*$ is stationnary *i.e.* it is constant in time, and to speficy from the past observed value of $PE$ (the climate). \n",
    "\n",
    "Note that it would be possible to specity $PE_c^*$ from the wind strength, but since we introduced a transfert function, that mapps the wind into power production of energy, the problem remains the same.\n"
   ]
  },
  {
   "cell_type": "markdown",
   "metadata": {},
   "source": [
    "**Compuation of the mean loss from climate database**\n",
    "\n",
    "Here we compute the climatological mean loss \n",
    "$$\\widehat{L}_\\mathrm{clim.}(PE_c)=\\mathbb{E}_{PE} [L(PE_c,PE)],$$\n",
    "that is estimated from the climate database as \n",
    "$$\\widehat{L}_\\mathrm{clim.}(PE_c)=\\frac{1}{\\#Clim.}\\sum_{i\\in Clim.} L(PE_c,PE_i).$$\n",
    "\n",
    "\n"
   ]
  },
  {
   "cell_type": "code",
   "execution_count": null,
   "metadata": {},
   "outputs": [],
   "source": [
    "class ClimatePEcStrategy(PEcStrategy):\n",
    "    \n",
    "    def __init__(self, *args, **kwargs):\n",
    "        super().__init__(*args, **kwargs)\n",
    "        self._seed = 0.01\n",
    "        self._pec_star = None\n",
    "    \n",
    "    def hat_loss(self, pec):\n",
    "        \"\"\" Average loss over the climate for PEc given: $\\mathbb{E}_PE[L(PEc,PE)]$ \"\"\"\n",
    "        return loss(pec, climate_PE).mean()\n",
    "    \n",
    "    def get_pec(self):\n",
    "        if self._pec_star is None:\n",
    "            # Compute the constant PEc^* which is independent from the weather situation.\n",
    "            self._pec_star = super().get_pec()\n",
    "        return self._pec_star"
   ]
  },
  {
   "cell_type": "code",
   "execution_count": null,
   "metadata": {},
   "outputs": [],
   "source": [
    "strategies['climate'] = ClimatePEcStrategy()"
   ]
  },
  {
   "cell_type": "markdown",
   "metadata": {},
   "source": [
    "**Evaluation of the prior loss when $PE_c=\\mathbb{E}_\\textrm{clim.}[PE]$**"
   ]
  },
  {
   "cell_type": "code",
   "execution_count": null,
   "metadata": {},
   "outputs": [],
   "source": [
    "# Average loss if PEc == mean(PE):\n",
    "hat_loss = strategies['climate'].hat_loss\n",
    "print(\"Average loss if PEc == mean(PE): \", hat_loss(mean_PE))"
   ]
  },
  {
   "cell_type": "markdown",
   "metadata": {},
   "source": [
    "**Average loss as a function of PEc**"
   ]
  },
  {
   "cell_type": "code",
   "execution_count": null,
   "metadata": {},
   "outputs": [],
   "source": [
    "\n",
    "plt.figure(figsize=(12,5))\n",
    "plt.subplot(121)\n",
    "PEs = np.linspace(0, max(climate_PE),200)\n",
    "plt.plot(PEs, [hat_loss(pe) for pe in PEs])\n",
    "plt.plot(mean_PE, hat_loss(mean_PE),'o', label='mean loss for mean PE')\n",
    "plt.xlabel(\"$PE_c$\")\n",
    "plt.legend()\n",
    "plt.title(\"(a) Mean climate loss $\\widehat{L}(PE_c)=\\mathbb{E}_{PE} [L(PE_c,PE)]$\")\n",
    "\n",
    "plt.subplot(122)\n",
    "PEs = np.linspace(0, 0.05,200)\n",
    "plt.plot(PEs, [hat_loss(pe) for pe in PEs])\n",
    "plt.xlabel(\"$PE_c$\")\n",
    "plt.title(\"(b) Zoom near the origin of $\\widehat{L}(PE_c)=\\mathbb{E}_{PE} [L(PE_c,PE)]$\");\n",
    "plt.suptitle(Fignum()+\"Prior mean losses as a function of $PE_c$\");"
   ]
  },
  {
   "cell_type": "markdown",
   "metadata": {},
   "source": [
    "<div style=\"margin:0 50px 0 50px\">\n",
    "<h4><b>Question: </b></h4>\n",
    "<div style=\"background:MistyRose\">\n",
    "<ol>\n",
    "    <li>What is an estimatation of $PE_c^*$ the best value of $PE_c$ that minimize the loss in average from climate data</li>\n",
    "    <li>Compared of the mean loss when $PE_c=\\mathbb{E}[PE]$  </li>\n",
    "    <li>Why $PE_c^*$ is different from $\\mathbb{E}[PE]$? </li>\n",
    "</ol>    \n",
    "</div>\n",
    "</div>"
   ]
  },
  {
   "cell_type": "markdown",
   "metadata": {},
   "source": [
    "***Answer here from the information provided in the following cells***"
   ]
  },
  {
   "cell_type": "code",
   "execution_count": null,
   "metadata": {},
   "outputs": [],
   "source": [
    "# Computation of the optimal value of PEc^* \n",
    "strategies['climate'].get_pec()"
   ]
  },
  {
   "cell_type": "code",
   "execution_count": null,
   "metadata": {},
   "outputs": [],
   "source": [
    "# Comparison with the mean(PE)\n",
    "hat_loss = strategies['climate'].hat_loss\n",
    "print(\"Average loss if PEc == mean(PE): \", hat_loss(mean_PE))\n",
    "print(\"Average loss if PEc == PEc^*   : \", hat_loss(strategies['climate'].get_pec()))"
   ]
  },
  {
   "cell_type": "markdown",
   "metadata": {},
   "source": [
    "### **6.2 Best $PE_c$ from prediction system, $\\widehat{L}_f(PE_c, PE_f)=\\mathbb{E}_{PE} [L(PE_c,PE)/PEf]$**"
   ]
  },
  {
   "cell_type": "markdown",
   "metadata": {},
   "source": [
    "Recap that in the case where a prediction is available (from a NWP system), the computation of the prior loss is given by\n",
    "  \n",
    "$$\\widehat{L}_f(PE_c, PE_f)=\\mathbb{E}_{PE} [L(PE_c,PE)/PEf],$$\n",
    "or\n",
    "$$\\widehat{L}_f(PE_c,PE_f)=\\int_{PE} L(PE_c,PE) p(PE/PEf) dPE.$$\n",
    "where $p(PE/PEf)$ denotes the conditionnal density of observed $PE$ for a given prediction $PE_f$.\n",
    "\n",
    "Then, the optimal contract PE is then solution of \n",
    "$$PE_c^* = \\textrm{ArgMin}_{PE_c}\\mathbb{E}_{PE} [L(PE_c,PE)/PEf] = \\textrm{ArgMin}_{PE_c}\\widehat{L}_f(PE_c, PE_f).$$\n",
    "\n",
    "So we have to compute the conditionnal density $p(PE/PEf)$. "
   ]
  },
  {
   "cell_type": "markdown",
   "metadata": {},
   "source": [
    "**From the empirical probability to conditional probability**\n",
    "\n",
    "However, the density is not know directly since we only know samples of the distribution.\n",
    "\n",
    "In particular, the joint-probability distribution of $(PEf,PE_t)$ is only known from its empirical approximations that is \n",
    "$$\\mathbb{P}_{(PEf,PE)}=\\frac{1}{\\# Clim.}\\sum_{i\\in Clim.} \\frac{1}{N_e}\\sum_{k\\in [1,N_e]} \\delta_{(PE^f_{i,k}, PE_i)},$$\n",
    "where $\\delta$ stands for the Diract distribution *i.e.* such that $\\int_\\mathbb{R} f(x)\\delta(dx) = f(0)$.\n",
    "\n",
    "\n",
    "Then, the conditionnal probability reads as \n",
    "$$\\mathbb{P}_{PE/PE_f\\in dPE_f}=\\frac{1}{\\# Clim.}\\sum_{i\\in Clim.} \\frac{1}{N_e}\\sum_{k\\in [1,N_e]} \\delta_{(PE^f_{i,k}, PE_i)} \\chi_{dPE_f}(PE^f_{i,k}),$$\n",
    "where $\\chi_X(x)= 1$ ($=0$) if $x\\in X$ ($x\\notin X$)"
   ]
  },
  {
   "cell_type": "markdown",
   "metadata": {},
   "source": [
    "**Estimation of the density**\n",
    "\n",
    "Moreoever, because of the finite size of the data base, the latter distribution has no density function of probability, while we use to have one. To overcome this issue, a [**kernel desnsity estimate (kernel dressing)**](https://en.wikipedia.org/wiki/Kernel_(statistics)) is considered which remains to replace Dirac distributions by probability with density function, for instance by using a Gaussian distribution, or an **Epanechnikov's compact supported kernel function** that reads as \n",
    "$$K(u)=\\frac{3}{4}(1-u^2)\\text{ for $|u|\\leq 1$ ($0$ elsehere)},$$\n",
    "such that $\\int_\\mathbb{R} K(u)du = 1$ ($K$ is a density of probability), \n",
    "and its normalized rescaled versions $K_h(u) = \\frac{1}{h} K(\\frac{1}{h} u)$ for $h>0$ which vanishes for $|u|>h$.\n",
    "\n",
    "Hence, it results that the estimated conditional density function reads as \n",
    "$$p_{PE/PEf}(pe) dPEf=\\frac{1}{\\# Clim.}\\sum_{i\\in Clim.} \\frac{1}{N_e}\\sum_{k\\in [1,N_e]} K_h\\left( pe-PE_{i}\\right)\\chi_{dPE_f}(PE^f_{i,k}),$$"
   ]
  },
  {
   "cell_type": "code",
   "execution_count": null,
   "metadata": {},
   "outputs": [],
   "source": [
    "from sklearn.neighbors import KernelDensity"
   ]
  },
  {
   "cell_type": "code",
   "execution_count": null,
   "metadata": {},
   "outputs": [],
   "source": [
    "class ConditionnalDistribution(object):\n",
    "    \"\"\" Computation of p(PE/PEf) from samples (PE_i,PEf_i) \n",
    "    \n",
    "    \n",
    "    the conditional distribution is performed from a set of bins [0,h]\n",
    "    \n",
    "    \n",
    "    \"\"\"\n",
    "    def __init__(self, PE, PEeps, nbins_PEf=200, bandwidth=0.05):\n",
    "        \"\"\" (PE, PEeps)\n",
    "        PEeps : ensemble of forecast leading to a PE\n",
    "        PE    : PE observed\n",
    "        \n",
    "        From numerical test, the optimal bandwith is obtained for thereabout $h\\approx 0.06$\n",
    "        \"\"\"        \n",
    "        \n",
    "        # build data base of PE to create the data base (PE_i,PE_i,k)_{i,k} indexed by (i,k)\n",
    "        Ne = PEeps.shape[1]\n",
    "        \n",
    "        tmp = np.zeros(PEeps.shape)\n",
    "        for k in range(Ne):\n",
    "            tmp[:,k] = PE\n",
    "            \n",
    "        self._PE = tmp.flatten()\n",
    "        self._PEf = PEeps.flatten()        \n",
    "        \n",
    "        # Computation of the bins of PEf\n",
    "        self._bins = np.linspace(0,1,nbins_PEf+1)\n",
    "        # centers of bins\n",
    "        self.bin_centers = 0.5*(self._bins[1:]+self._bins[:-1])\n",
    "        self.bin_resolution = self._bins[1]/2\n",
    "        \n",
    "        self._conditional_distributions = {}\n",
    "        \n",
    "        for bin_center in self.bin_centers:\n",
    "            # 1. select the PEf near to the bin center\n",
    "            # .. todo \n",
    "            bin_selection = self._distance_to_bin(self._PEf, bin_center)<self.bin_resolution\n",
    "            \n",
    "            # 2. compute the kernel density of the selected database\n",
    "            self._conditional_distributions[bin_center] = KernelDensity(kernel=\"epanechnikov\", \n",
    "                                                            bandwidth=bandwidth).fit(np.expand_dims(self._PE[bin_selection],axis=1))        \n",
    "            \n",
    "        self.set_discretized_conditional_distribution()\n",
    "        \n",
    "    def _distance_to_bin(self, PEf, bin_center):\n",
    "        return np.abs(PEf-bin_center)\n",
    "    \n",
    "    def _nearest_bins_index(self, PEf):\n",
    "        return np.abs(PEf-self.bin_centers).argmin()\n",
    "    \n",
    "    def _nearest_bins(self, PEf):\n",
    "        return self.bin_centers[self._nearest_bins_index(PEf)]\n",
    "    \n",
    "        \n",
    "    def set_discretized_conditional_distribution(self, n=200):\n",
    "        self._pe = np.linspace(0,1,n) # discretization of pe\n",
    "        \n",
    "        # Compute the discretized distrbution -- they ar not normlized\n",
    "        # 1. Compute the un-normlized density\n",
    "        self._discretized_cond_distribs = {\n",
    "            bin_center : np.exp(kde.score_samples(np.expand_dims(self._pe,axis=1)))\n",
    "            for bin_center,kde in self._conditional_distributions.items() \n",
    "        }\n",
    "        \n",
    "        # 2. Normalize the densities\n",
    "        one_func = lambda x:1.\n",
    "        for bin_center in self.bin_centers:\n",
    "            self._discretized_cond_distribs[bin_center] /= self.expectation(one_func, bin_center)\n",
    "\n",
    "        \n",
    "    def expectation(self,f,PEf):\n",
    "        \"\"\" Return the conditionnal expectation of a function 'f': E[f(PE)/PEf] \"\"\"\n",
    "        eval_f = f(self._pe)\n",
    "        d_pe = self._pe[1] - self._pe[0]\n",
    "        cond_distrib = self._discretized_cond_distribs[self._nearest_bins(PEf)]\n",
    "        return d_pe*sum(eval_f*cond_distrib)\n",
    "        \n",
    "        \n",
    "    def _plot_joined_distribution(self):\n",
    "        \"\"\" Plot of the joined distribution (PEf,PE)\"\"\"\n",
    "        plt.plot(conditional_distribution._PEf, conditional_distribution._PE,'.')\n",
    "        plt.xlabel('PEf')\n",
    "        plt.ylabel('PE')\n",
    "        plt.title(\"Joined distribution (PEf,PE)\")\n",
    "        \n",
    "    def _plot_conditional_distributions(self):        \n",
    "        for bin_center, kde in self._conditional_distributions.items():\n",
    "            plt.plot(self._pe, self._discretized_cond_distribs[bin_center], label=f'pe={bin_center}')\n",
    "        #plt.legend()\n",
    "        plt.xlabel(\"PE\")\n",
    "        plt.title('Conditionnal distributions p(PE/PEf)')"
   ]
  },
  {
   "cell_type": "code",
   "execution_count": null,
   "metadata": {},
   "outputs": [],
   "source": [
    "cond = ConditionnalDistribution(PEt, np.asarray(PEeps), bandwidth=0.05)"
   ]
  },
  {
   "cell_type": "code",
   "execution_count": null,
   "metadata": {},
   "outputs": [],
   "source": [
    "plt.figure(figsize=(12,12))\n",
    "cond._plot_conditional_distributions()"
   ]
  },
  {
   "cell_type": "code",
   "execution_count": null,
   "metadata": {},
   "outputs": [],
   "source": [
    "# Verification that conditional distributions are normalized that is $\\mathbb{E}_{PE}[1. / PE_f]=1$ \n",
    "one = lambda x: 1.0\n",
    "for pef in [0.1, 0.2, 0.5, 0.8]:\n",
    "    print(cond.expectation(one, pef))"
   ]
  },
  {
   "cell_type": "markdown",
   "metadata": {},
   "source": [
    "Implementation of the best strategy conditionned to a deterministic prediction, and given by \n",
    "$$PE_c^* = \\textrm{ArgMin}_{PE_c}\\mathbb{E}_{PE} [L(PE_c,PE)/PEf] = \\textrm{ArgMin}_{PE_c}\\widehat{L}_f(PE_c, PE_f).$$"
   ]
  },
  {
   "cell_type": "code",
   "execution_count": null,
   "metadata": {},
   "outputs": [],
   "source": [
    "class DeterministicPEcStrategy(PEcStrategy):\n",
    "    \n",
    "    def __init__(self, cond_distribution, *args, optim='argmin', **kwargs):\n",
    "        super().__init__(*args, **kwargs)\n",
    "        self._optimizer = optim\n",
    "        self._cond = cond_distribution\n",
    "    \n",
    "    def hat_loss(self,pec):\n",
    "        loc_loss = lambda pe: loss(pec,pe)        \n",
    "        return self._cond.expectation(loc_loss, self._pef)\n",
    "    \n",
    "    def set_weather_information(self, pef):\n",
    "        self._pef = pef\n",
    "    \n",
    "    def plot_hat_loss(self):\n",
    "        \"\"\" Plot of the loss function for a given weather situation \"\"\"\n",
    "        '''\n",
    "        pec = np.linspace(0,1,200)\n",
    "        plt.plot(pec,[self.hat_loss(p) for p in pec])\n",
    "        plt.xlabel(\"PEc\")\n",
    "        '''\n",
    "        super().plot_hat_loss()\n",
    "        plt.title(f'Loss E_PE[ l(PEc,PE)/PEf] as a function of PEc\\n for PEf={self._pef}')\n",
    "        "
   ]
  },
  {
   "cell_type": "code",
   "execution_count": null,
   "metadata": {},
   "outputs": [],
   "source": [
    "strategies['deterministic'] = DeterministicPEcStrategy(cond)"
   ]
  },
  {
   "cell_type": "markdown",
   "metadata": {},
   "source": [
    "**Illustration for some given PEf**"
   ]
  },
  {
   "cell_type": "code",
   "execution_count": null,
   "metadata": {},
   "outputs": [],
   "source": [
    "rel_error = lambda pec_star,pef : (pec_star-pef)/pef*100\n",
    "strategy = strategies['deterministic']\n",
    "plt.figure(figsize=(12,12))\n",
    "for k,pef in enumerate([0.2, 0.4, 0.6, 0.8]):\n",
    "    plt.subplot(221+k)\n",
    "    strategy.set_weather_information(pef)\n",
    "    strategy.plot_hat_loss()\n",
    "    pec_star = strategy.get_pec()\n",
    "    print(pec_star, rel_error(pec_star, pef))"
   ]
  },
  {
   "cell_type": "markdown",
   "metadata": {},
   "source": [
    "<div style=\"margin:0 50px 0 50px\">\n",
    "<h4><b>Question: </b></h4>\n",
    "<div style=\"background:MistyRose\">\n",
    "Plot the optimal value provided from the optimization of $\\widehat{L}_f$ for a given prediction of $PE_f$, and compare the resulting $PE_c$ with the intiale $PE_f$ provided.\n",
    "</div>\n",
    "</div>"
   ]
  },
  {
   "cell_type": "markdown",
   "metadata": {},
   "source": [
    "### **6.3 Best $PE_c$ from ensemble prediction system $\\widehat{L}_\\textrm{eps.} (PE_c, PE_\\textrm{eps.})=\\mathbb{E}_{PE_f}\\left[\\mathbb{E}_{PE} [L(PE_c,PE)/PEf]\\right].$**"
   ]
  },
  {
   "cell_type": "markdown",
   "metadata": {},
   "source": [
    "This strategy is performed from the class defined now"
   ]
  },
  {
   "cell_type": "code",
   "execution_count": null,
   "metadata": {},
   "outputs": [],
   "source": [
    "class EnsemblePEcStrategy(DeterministicPEcStrategy):\n",
    "    \n",
    "    \n",
    "    def hat_loss(self,pec):\n",
    "        loc_loss = lambda pe: loss(pec,pe)        \n",
    "        return np.mean([self._cond.expectation(loc_loss, pef) for pef in self._pe_eps])\n",
    "    \n",
    "    def set_weather_information(self, eps):\n",
    "        self._pe_eps = eps        \n",
    "    \n",
    "    def plot_hat_loss(self):\n",
    "        \"\"\" Plot of the loss function for a given weather situation \"\"\"\n",
    "        '''\n",
    "        pec = np.linspace(0,1,200)\n",
    "        plt.plot(pec,[self.hat_loss(p) for p in pec])\n",
    "        plt.xlabel(\"PEc\")\n",
    "        '''\n",
    "        super(DeterministicPEcStrategy).plot_hat_loss()\n",
    "        plt.title(f'Loss E_PE[ l(PEc,PE)/PEf] as a function of PEc\\n for mean(PEf)={np.mean(self._pef_eps)}')"
   ]
  },
  {
   "cell_type": "code",
   "execution_count": null,
   "metadata": {},
   "outputs": [],
   "source": [
    "strategies['ensemble'] = EnsemblePEcStrategy(cond)"
   ]
  },
  {
   "cell_type": "markdown",
   "metadata": {},
   "source": [
    "## **7 Evaluation of these strategy on an independent period**\n",
    "Evaluation of the strategies"
   ]
  },
  {
   "cell_type": "markdown",
   "metadata": {},
   "source": [
    "**Design of the evaluation period**\n",
    "\n",
    "For the valisation period we consider the same EnKF prediction system and evaluation the different strategies along a large period."
   ]
  },
  {
   "cell_type": "code",
   "execution_count": null,
   "metadata": {},
   "outputs": [],
   "source": [
    "xt = assim_nature_db[-1]\n",
    "Xf = assim_eps_db[-1]"
   ]
  },
  {
   "cell_type": "code",
   "execution_count": null,
   "metadata": {},
   "outputs": [],
   "source": [
    "strategies"
   ]
  },
  {
   "cell_type": "code",
   "execution_count": null,
   "metadata": {},
   "outputs": [],
   "source": [
    "#EnKF\n",
    "\n",
    "nb_cycles_evaluation = (2*365)*4 # Long period for robust evaluation of the strategies\n",
    "nb_cycles_evaluation = 100  # Short period for intermediate evaluation of the strategies.\n",
    "\n",
    "print(\"Compute assimilation cycles over a long (short) period for robust (intermediate) evaluation \")\n",
    "\n",
    "evaluation_db = { 'PEc-'+key:[] for key in strategies}\n",
    "evaluation_db['PEt'] = [] # True observed value\n",
    "evaluation_db['PEf'] = [] # True observed value\n",
    "evaluation_db['PEeps'] = [] # True observed value\n",
    "\n",
    "for k in valeco.range_bar(nb_cycles_evaluation):\n",
    "    #\n",
    "    # Analysis state\n",
    "    #\n",
    "    # Build synthetic observations to mimic real observations of Nature\n",
    "    yo = xt + stdo*np.random.normal(size=3)\n",
    "    \n",
    "    # Estimate the covariance matrix    \n",
    "    ef = (np.asarray(Xf) - np.asarray(Xf).mean(axis=0)).T\n",
    "    Pf = 1/Ne* ef@ef.T\n",
    "    # Compute Kalman's gain matrix K\n",
    "    Ke = Pf@H.T@np.linalg.inv(H@Pf@H.T+R)\n",
    "    # Assimilate base on error perturbation\n",
    "    def assim(xf, yo):\n",
    "        d = yo.T - H@xf.T\n",
    "        xa = xf.T+Ke@d\n",
    "        return xa.T\n",
    "    \n",
    "    perturbed_obs_gen = (yo+stdo*np.random.normal(size=3) for k in range(Ne))\n",
    "    \n",
    "    Xa = []\n",
    "    for xf,yop in zip(Xf, perturbed_obs_gen):\n",
    "        Xa.append(assim(xf, yop))\n",
    "    \n",
    "    \n",
    "    #\n",
    "    # Forecast step\n",
    "    #\n",
    "    xft = nature.predict(window_6h, xt)[-1]\n",
    "    xt = xft\n",
    "    \n",
    "    ens_traj = model.ensemble_forecast(window_6h, Xa)    \n",
    "    Xf = ens_traj[window_6h[-1]]\n",
    "    \n",
    "    # Evaluation of the strategies on the forecast of PEc\n",
    "    \n",
    "    # True observed power wind\n",
    "    pe_t = powerplant.FF2PE(nature.state2FF(xt))\n",
    "    \n",
    "    # Forecasted powerwind (from mean ensemble of forecasts)\n",
    "    xf = np.asarray(Xf).mean(axis=0) # mean of the ensemble.\n",
    "    pe_f = powerplant.FF2PE(nature.state2FF(xf))\n",
    "    \n",
    "    # Ensemble of powerwind forecasts    \n",
    "    pe_eps = wind_power(wind(Xf))\n",
    "    \n",
    "    evaluation_db['PEt'].append(pe_t)\n",
    "    evaluation_db['PEf'].append(pe_f)\n",
    "    evaluation_db['PEeps'].append(pe_eps)\n",
    "    \n",
    "    # Strategies\n",
    "    \n",
    "    for key, strategy in strategies.items():\n",
    "        # Set weatehr information depending on the strategies\n",
    "        if key == 'climate':\n",
    "            # 1 -- Climate optmized PEc*\n",
    "            # Nothing to do \n",
    "            pass\n",
    "        \n",
    "        elif key=='deterministic':\n",
    "            # 2 -- Deterministic optmized PEc*\n",
    "            strategy.set_weather_information(pe_f)\n",
    "            \n",
    "        elif key=='ensemble':\n",
    "            # 3 -- Ensemble optmized PEc*\n",
    "            strategy.set_weather_information(pe_eps)\n",
    "\n",
    "        pe_c = strategy.get_pec() \n",
    "        evaluation_db['PEc-'+key].append(pe_c)\n"
   ]
  },
  {
   "cell_type": "markdown",
   "metadata": {},
   "source": [
    "**Computation of the loss along the period**"
   ]
  },
  {
   "cell_type": "code",
   "execution_count": null,
   "metadata": {},
   "outputs": [],
   "source": [
    "losses = {}\n",
    "for method in strategies:\n",
    "    losses[method] = [loss(pec, pe) for pec, pe in zip(evaluation_db['PEc-'+method], evaluation_db['PEt'])]\n",
    "losses['raw prediction'] = [loss(pec, pe) for pec, pe in zip(evaluation_db['PEf'], evaluation_db['PEt'])]"
   ]
  },
  {
   "cell_type": "code",
   "execution_count": null,
   "metadata": {},
   "outputs": [],
   "source": [
    "plt.figure(figsize=(12,12))\n",
    "for method, data in losses.items():\n",
    "    plt.plot(np.cumsum(data),label='cum. losses - '+method)\n",
    "plt.legend()\n",
    "plt.title(Fignum()+\"Losses due to the error of PEc depending of the strategy\")\n",
    "plt.xlabel(\"Time\")\n",
    "plt.ylabel(\"Loss magnitude\");"
   ]
  },
  {
   "cell_type": "markdown",
   "metadata": {},
   "source": [
    "<div style=\"margin:0 50px 0 50px\">\n",
    "<h4><b>Question: </b></h4>\n",
    "<div style=\"background:MistyRose\">\n",
    "    <ol>\n",
    "<li> Detail the resulting plot\n",
    "<li> Give some explainations or perspective to understand the results.\n",
    "    </ol>\n",
    "</div>\n",
    "</div>"
   ]
  },
  {
   "cell_type": "markdown",
   "metadata": {},
   "source": [
    "<div style=\"margin:0 50px 0 50px\">\n",
    "<h4><b>Question: </b></h4>\n",
    "<div style=\"background:MistyRose\">\n",
    "Try other strategies for the computation of $PE_c^*$ for instance the computation from the mode of the conditionnal distribution.\n",
    "</div>\n",
    "</div>"
   ]
  },
  {
   "cell_type": "markdown",
   "metadata": {},
   "source": [
    "## Conclusion"
   ]
  },
  {
   "cell_type": "markdown",
   "metadata": {},
   "source": [
    "<div style=\"margin:0 50px 0 50px\">\n",
    "<h4><b>Question: </b></h4>\n",
    "<div style=\"background:MistyRose\">\n",
    "Write conclusions of this work.. \n",
    "</div>\n",
    "</div>"
   ]
  },
  {
   "cell_type": "markdown",
   "metadata": {},
   "source": [
    "##  References for further reading and developpements\n",
    "    \n",
    "P. Pinson, J. Juban, and G. Kariniotakis, “On the Quality and Value of Probabilistic Forecasts of Wind Generation,” in International Conference on Probabilistic Methods Applied to Power Systems, Stockholm, 2006.\n",
    "\n",
    "E. D. Castronuovo et al., “An integrated approach for optimal coordination of wind power and hydro pumping storage,” Wind Energy, vol. 17, no. 6, pp. 829–852, Mar. 2013, doi: 10.1002/we.1600.\n",
    "\n",
    "J. W. Taylor and J. Jeon, “Forecasting wind power quantiles using conditional kernel estimation,” Renewable Energy, vol. 80, pp. 370–379, Aug. 2015, doi: 10.1016/j.renene.2015.02.022."
   ]
  }
 ],
 "metadata": {
  "celltoolbar": "Raw Cell Format",
  "kernelspec": {
   "display_name": "Python 3",
   "language": "python",
   "name": "python3"
  },
  "language_info": {
   "codemirror_mode": {
    "name": "ipython",
    "version": 3
   },
   "file_extension": ".py",
   "mimetype": "text/x-python",
   "name": "python",
   "nbconvert_exporter": "python",
   "pygments_lexer": "ipython3",
   "version": "3.8.8"
  },
  "toc": {
   "nav_menu": {},
   "number_sections": true,
   "sideBar": true,
   "skip_h1_title": true,
   "toc_cell": false,
   "toc_position": {},
   "toc_section_display": "block",
   "toc_window_display": false
  }
 },
 "nbformat": 4,
 "nbformat_minor": 4
}
